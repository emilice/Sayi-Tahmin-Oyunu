{
  "nbformat": 4,
  "nbformat_minor": 0,
  "metadata": {
    "colab": {
      "name": "SayiTahminOyunu.ipynb",
      "provenance": [],
      "collapsed_sections": [],
      "authorship_tag": "ABX9TyNx9ZLXIzWOcqc26Rq4MpeY",
      "include_colab_link": true
    },
    "kernelspec": {
      "name": "python3",
      "display_name": "Python 3"
    },
    "language_info": {
      "name": "python"
    }
  },
  "cells": [
    {
      "cell_type": "markdown",
      "metadata": {
        "id": "view-in-github",
        "colab_type": "text"
      },
      "source": [
        "<a href=\"https://colab.research.google.com/github/emilice/Sayi-Tahmin-Oyunu/blob/main/SayiTahminOyunu.ipynb\" target=\"_parent\"><img src=\"https://colab.research.google.com/assets/colab-badge.svg\" alt=\"Open In Colab\"/></a>"
      ]
    },
    {
      "cell_type": "code",
      "execution_count": 2,
      "metadata": {
        "colab": {
          "base_uri": "https://localhost:8080/"
        },
        "id": "j3JIOdz09XhF",
        "outputId": "65a806ec-a9bc-4903-a26c-966269536f29"
      },
      "outputs": [
        {
          "output_type": "stream",
          "name": "stdout",
          "text": [
            "Tahmininizi Giriniz:Çık\n",
            "Oyundan çıktınız.\n"
          ]
        }
      ],
      "source": [
        "import random as rd\n",
        "sayi=rd.randint(1,10)\n",
        "count=0\n",
        "kullanici_verisi=0\n",
        "\n",
        "while(True):\n",
        "  kullanici_verisi=input(\"Tahmininizi Giriniz:\")\n",
        "  count+=1\n",
        "  if(kullanici_verisi==\"çık\"):\n",
        "    print(\"Oyundan çıktınız.\")\n",
        "    break\n",
        "\n",
        "  kullanici_verisi=int(kullanici_verisi)\n",
        "  if(kullanici_verisi>sayi):\n",
        "    print(\"Tahminden daha küçük bir değer girdiniz.\")\n",
        "  elif(kullanici_verisi<sayi):\n",
        "    print(\"Tahminden daha büyük bir değer girdiniz.\")\n",
        "  else:\n",
        "    print(\"Doğru tahmin, tebrikler.\")\n",
        "    print(\"Tur sayın:\",str(count))\n",
        "    break\n"
      ]
    }
  ]
}